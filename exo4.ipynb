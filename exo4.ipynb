{
  "nbformat": 4,
  "nbformat_minor": 0,
  "metadata": {
    "colab": {
      "provenance": [],
      "authorship_tag": "ABX9TyMNQD3tlPL/1Vb0S8/W1ye/",
      "include_colab_link": true
    },
    "kernelspec": {
      "name": "python3",
      "display_name": "Python 3"
    },
    "language_info": {
      "name": "python"
    }
  },
  "cells": [
    {
      "cell_type": "markdown",
      "metadata": {
        "id": "view-in-github",
        "colab_type": "text"
      },
      "source": [
        "<a href=\"https://colab.research.google.com/github/AntoineChapel/metrics1_part2_hw1/blob/main/exo4.ipynb\" target=\"_parent\"><img src=\"https://colab.research.google.com/assets/colab-badge.svg\" alt=\"Open In Colab\"/></a>"
      ]
    },
    {
      "cell_type": "code",
      "execution_count": 1,
      "metadata": {
        "id": "UjY0JGXWxRYQ"
      },
      "outputs": [],
      "source": [
        "import numpy as np\n",
        "import pandas as pd\n",
        "import statsmodels.api as sm\n",
        "from sklearn.linear_model import LassoCV"
      ]
    },
    {
      "cell_type": "code",
      "source": [
        "np.random.seed(6411)\n",
        "\n",
        "N = 100\n",
        "P = 30\n",
        "b1_2 = np.array([1, 2])\n",
        "b3_p = np.zeros((P-2))\n",
        "beta = np.hstack((b1_2, b3_p)).reshape(-1, 1)\n",
        "\n",
        "X = np.random.normal(0, 1, size=(N, P))\n",
        "e = np.random.normal(0, 1, size=(N, 1))\n",
        "y = X@beta + e\n",
        "\n",
        "#OLS\n",
        "model1 = sm.OLS(y, X[:, 0:2]).fit(cov_type='HC1')\n",
        "print(model1.summary())"
      ],
      "metadata": {
        "colab": {
          "base_uri": "https://localhost:8080/"
        },
        "id": "vd_tGIYexdmn",
        "outputId": "1e1b2ac3-0565-423a-9e88-6f17a1097cc4"
      },
      "execution_count": 2,
      "outputs": [
        {
          "output_type": "stream",
          "name": "stdout",
          "text": [
            "                                 OLS Regression Results                                \n",
            "=======================================================================================\n",
            "Dep. Variable:                      y   R-squared (uncentered):                   0.802\n",
            "Model:                            OLS   Adj. R-squared (uncentered):              0.798\n",
            "Method:                 Least Squares   F-statistic:                              210.2\n",
            "Date:                Wed, 08 Nov 2023   Prob (F-statistic):                    3.53e-36\n",
            "Time:                        16:31:49   Log-Likelihood:                         -142.85\n",
            "No. Observations:                 100   AIC:                                      289.7\n",
            "Df Residuals:                      98   BIC:                                      294.9\n",
            "Df Model:                           2                                                  \n",
            "Covariance Type:                  HC1                                                  \n",
            "==============================================================================\n",
            "                 coef    std err          z      P>|z|      [0.025      0.975]\n",
            "------------------------------------------------------------------------------\n",
            "x1             1.0330      0.109      9.447      0.000       0.819       1.247\n",
            "x2             2.0542      0.113     18.247      0.000       1.834       2.275\n",
            "==============================================================================\n",
            "Omnibus:                        2.205   Durbin-Watson:                   2.070\n",
            "Prob(Omnibus):                  0.332   Jarque-Bera (JB):                2.179\n",
            "Skew:                          -0.348   Prob(JB):                        0.336\n",
            "Kurtosis:                       2.803   Cond. No.                         1.20\n",
            "==============================================================================\n",
            "\n",
            "Notes:\n",
            "[1] R² is computed without centering (uncentered) since the model does not contain a constant.\n",
            "[2] Standard Errors are heteroscedasticity robust (HC1)\n"
          ]
        }
      ]
    },
    {
      "cell_type": "code",
      "source": [
        "#Lasso regression\n",
        "lambda_vec = np.array([0.0, 0.05, 0.1, 0.2])\n",
        "\n",
        "lasso_results = np.empty((P, lambda_vec.shape[0]))\n",
        "for i, lambdaval in enumerate(lambda_vec):\n",
        "    model2 = sm.OLS(y, X).fit_regularized(method='elastic_net', alpha=lambdaval, L1_wt=1.0)\n",
        "    lasso_results[:, i] = (model2.params)\n",
        "\n",
        "lasso_results_df = pd.DataFrame(np.round(lasso_results, 3), columns=[\"l = 0\", \"l = 0.05\", \"l = 0.1\", \"l=0.2\"])\n",
        "print(lasso_results_df)"
      ],
      "metadata": {
        "colab": {
          "base_uri": "https://localhost:8080/"
        },
        "id": "I1NhrqWAxTsS",
        "outputId": "8fca5e1b-aa61-41db-c68e-f8ec33958934"
      },
      "execution_count": 3,
      "outputs": [
        {
          "output_type": "stream",
          "name": "stdout",
          "text": [
            "    l = 0  l = 0.05  l = 0.1  l=0.2\n",
            "0   1.042     0.948    0.879  0.756\n",
            "1   2.075     2.000    1.931  1.790\n",
            "2   0.026     0.000    0.000  0.000\n",
            "3  -0.029     0.000    0.000  0.000\n",
            "4   0.104     0.030    0.000  0.000\n",
            "5  -0.160    -0.084   -0.036  0.000\n",
            "6  -0.015     0.000    0.000  0.000\n",
            "7   0.135     0.090    0.037  0.000\n",
            "8  -0.009     0.000    0.000  0.000\n",
            "9   0.067     0.000    0.000  0.000\n",
            "10 -0.168    -0.124   -0.080  0.000\n",
            "11 -0.054     0.000    0.000  0.000\n",
            "12 -0.240    -0.170   -0.114 -0.024\n",
            "13  0.044     0.000    0.000  0.000\n",
            "14 -0.362    -0.197   -0.124 -0.018\n",
            "15  0.042     0.004    0.000  0.000\n",
            "16  0.068     0.030    0.000  0.000\n",
            "17  0.238     0.091    0.015  0.000\n",
            "18  0.022     0.000    0.000  0.000\n",
            "19 -0.182    -0.096   -0.053  0.000\n",
            "20 -0.116     0.000    0.000  0.000\n",
            "21 -0.116    -0.021    0.000  0.000\n",
            "22  0.131     0.000    0.000  0.000\n",
            "23 -0.074     0.000    0.000  0.000\n",
            "24  0.034     0.000    0.000  0.000\n",
            "25 -0.029     0.000    0.000  0.000\n",
            "26  0.035     0.000    0.000  0.000\n",
            "27  0.265     0.096    0.006  0.000\n",
            "28 -0.071     0.000    0.000  0.000\n",
            "29 -0.101     0.000    0.000  0.000\n"
          ]
        }
      ]
    },
    {
      "cell_type": "code",
      "source": [
        "#Lasso Cross-validation:\n",
        "lasso_crossval = LassoCV(alphas=np.linspace(0.01, 5.01, 1000), cv=5)\n",
        "lasso_crossval.fit(X, y.flatten())\n",
        "\n",
        "print(\"\\nBest lambda suggested by CV:\", lasso_crossval.alpha_)"
      ],
      "metadata": {
        "colab": {
          "base_uri": "https://localhost:8080/"
        },
        "id": "p65mNbkhxbY1",
        "outputId": "6d005a7e-a0b3-4da6-cfa9-cbb14713482b"
      },
      "execution_count": 4,
      "outputs": [
        {
          "output_type": "stream",
          "name": "stdout",
          "text": [
            "\n",
            "Best lambda suggested by CV: 0.08507507507507507\n"
          ]
        }
      ]
    }
  ]
}