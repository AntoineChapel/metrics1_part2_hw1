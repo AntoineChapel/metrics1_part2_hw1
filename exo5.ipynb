{
  "nbformat": 4,
  "nbformat_minor": 0,
  "metadata": {
    "colab": {
      "provenance": [],
      "authorship_tag": "ABX9TyOGqh5K0uaxgUGSfl6xmBqV",
      "include_colab_link": true
    },
    "kernelspec": {
      "name": "python3",
      "display_name": "Python 3"
    },
    "language_info": {
      "name": "python"
    }
  },
  "cells": [
    {
      "cell_type": "markdown",
      "metadata": {
        "id": "view-in-github",
        "colab_type": "text"
      },
      "source": [
        "<a href=\"https://colab.research.google.com/github/AntoineChapel/metrics1_part2_hw1/blob/main/exo5.ipynb\" target=\"_parent\"><img src=\"https://colab.research.google.com/assets/colab-badge.svg\" alt=\"Open In Colab\"/></a>"
      ]
    },
    {
      "cell_type": "code",
      "execution_count": 1,
      "metadata": {
        "id": "xLkUKLqY-qXM"
      },
      "outputs": [],
      "source": [
        "import numpy as np\n",
        "import pandas as pd\n",
        "from sklearn.linear_model import LinearRegression, Ridge, RidgeCV, Lasso, LassoCV, ElasticNet, ElasticNetCV\n",
        "from sklearn.model_selection import train_test_split, GridSearchCV, RandomizedSearchCV\n",
        "from sklearn.metrics import r2_score"
      ]
    },
    {
      "cell_type": "code",
      "source": [
        "import warnings\n",
        "warnings.filterwarnings(\"ignore\")"
      ],
      "metadata": {
        "id": "tKRU9Jjwc3gf"
      },
      "execution_count": 2,
      "outputs": []
    },
    {
      "cell_type": "code",
      "source": [
        "#adjust:\n",
        "DATA_PATH = r\"/content/cps09mar.txt\"\n",
        "np.random.seed(6411)\n",
        "\n",
        "df = pd.read_csv(DATA_PATH, sep=\"\\t\")\n",
        "\n",
        "\n",
        "\n",
        "df.columns = [\"age\", \"female\", \"hisp\", \"education\", \"earnings\", \"hours\", \"week\", \"union\", \"uncov\", \"region\", \"race\", \"marital\"]\n",
        "\n",
        "\n",
        "df = df[df['female']==1]\n",
        "df = df[df['race']==4]\n",
        "\n",
        "df['logwage'] = np.log(df['earnings'])\n",
        "\n",
        "for i in [12, 13, 14, 15, 16, 18, 20]:\n",
        "    df['educ_dum_'+str(i)] = (df['education']==i).astype(int)\n",
        "\n",
        "df['experience/40'] = (df['age'] - df['education'])/40\n",
        "for i in np.arange(2, 10):\n",
        "    df['experience/40_pow_'+str(i)] = df['experience/40']**i\n",
        "\n",
        "df['married'] = (df['marital'] <= 3).astype(int)\n",
        "df['widowed'] = (df['marital'] == 4).astype(int)\n",
        "df['divorced'] = (df['marital'] == 5).astype(int)\n",
        "df['separated'] = (df['marital'] == 6).astype(int)\n",
        "df['never_married'] = (df['marital']==7).astype(int)\n",
        "\n",
        "for i in np.arange(1, 5):\n",
        "    df['region_'+str(i)] = (df['region']==i).astype(int)\n",
        "\n",
        "for i in range(2):\n",
        "    df['union_'+str(i)] = (df['union']==i).astype(int)\n",
        "\n",
        "\n",
        "#keep only relevant variables\n",
        "df = df.drop(columns=[\"age\", \"female\", \"hisp\", \"earnings\", \"hours\", \"week\", \"union\", \"uncov\", \"region\", \"race\", \"marital\"])\n"
      ],
      "metadata": {
        "id": "6BaLi6-TVf_y"
      },
      "execution_count": 4,
      "outputs": []
    },
    {
      "cell_type": "code",
      "source": [
        "df.head()"
      ],
      "metadata": {
        "colab": {
          "base_uri": "https://localhost:8080/",
          "height": 255
        },
        "id": "YhZfgBAE_LIH",
        "outputId": "981a5816-a184-47b7-c2f2-48aa7b0c221c"
      },
      "execution_count": 5,
      "outputs": [
        {
          "output_type": "execute_result",
          "data": {
            "text/plain": [
              "      education    logwage  educ_dum_12  educ_dum_13  educ_dum_14  \\\n",
              "155          16  10.491274            0            0            0   \n",
              "407          16   9.942708            0            0            0   \n",
              "740          12   9.942708            1            0            0   \n",
              "852          12  10.203592            1            0            0   \n",
              "1036         13  10.373491            0            1            0   \n",
              "\n",
              "      educ_dum_15  educ_dum_16  educ_dum_18  educ_dum_20  experience/40  ...  \\\n",
              "155             0            1            0            0          0.400  ...   \n",
              "407             0            1            0            0          0.825  ...   \n",
              "740             0            0            0            0          0.875  ...   \n",
              "852             0            0            0            0          0.875  ...   \n",
              "1036            0            0            0            0          0.625  ...   \n",
              "\n",
              "      widowed  divorced  separated  never_married  region_1  region_2  \\\n",
              "155         0         0          0              0         1         0   \n",
              "407         0         0          0              0         1         0   \n",
              "740         0         0          0              0         1         0   \n",
              "852         0         0          0              0         1         0   \n",
              "1036        0         1          0              0         1         0   \n",
              "\n",
              "      region_3  region_4  union_0  union_1  \n",
              "155          0         0        1        0  \n",
              "407          0         0        1        0  \n",
              "740          0         0        1        0  \n",
              "852          0         0        1        0  \n",
              "1036         0         0        1        0  \n",
              "\n",
              "[5 rows x 29 columns]"
            ],
            "text/html": [
              "\n",
              "  <div id=\"df-9f3c1284-beef-448f-b3aa-8eb292f470d1\" class=\"colab-df-container\">\n",
              "    <div>\n",
              "<style scoped>\n",
              "    .dataframe tbody tr th:only-of-type {\n",
              "        vertical-align: middle;\n",
              "    }\n",
              "\n",
              "    .dataframe tbody tr th {\n",
              "        vertical-align: top;\n",
              "    }\n",
              "\n",
              "    .dataframe thead th {\n",
              "        text-align: right;\n",
              "    }\n",
              "</style>\n",
              "<table border=\"1\" class=\"dataframe\">\n",
              "  <thead>\n",
              "    <tr style=\"text-align: right;\">\n",
              "      <th></th>\n",
              "      <th>education</th>\n",
              "      <th>logwage</th>\n",
              "      <th>educ_dum_12</th>\n",
              "      <th>educ_dum_13</th>\n",
              "      <th>educ_dum_14</th>\n",
              "      <th>educ_dum_15</th>\n",
              "      <th>educ_dum_16</th>\n",
              "      <th>educ_dum_18</th>\n",
              "      <th>educ_dum_20</th>\n",
              "      <th>experience/40</th>\n",
              "      <th>...</th>\n",
              "      <th>widowed</th>\n",
              "      <th>divorced</th>\n",
              "      <th>separated</th>\n",
              "      <th>never_married</th>\n",
              "      <th>region_1</th>\n",
              "      <th>region_2</th>\n",
              "      <th>region_3</th>\n",
              "      <th>region_4</th>\n",
              "      <th>union_0</th>\n",
              "      <th>union_1</th>\n",
              "    </tr>\n",
              "  </thead>\n",
              "  <tbody>\n",
              "    <tr>\n",
              "      <th>155</th>\n",
              "      <td>16</td>\n",
              "      <td>10.491274</td>\n",
              "      <td>0</td>\n",
              "      <td>0</td>\n",
              "      <td>0</td>\n",
              "      <td>0</td>\n",
              "      <td>1</td>\n",
              "      <td>0</td>\n",
              "      <td>0</td>\n",
              "      <td>0.400</td>\n",
              "      <td>...</td>\n",
              "      <td>0</td>\n",
              "      <td>0</td>\n",
              "      <td>0</td>\n",
              "      <td>0</td>\n",
              "      <td>1</td>\n",
              "      <td>0</td>\n",
              "      <td>0</td>\n",
              "      <td>0</td>\n",
              "      <td>1</td>\n",
              "      <td>0</td>\n",
              "    </tr>\n",
              "    <tr>\n",
              "      <th>407</th>\n",
              "      <td>16</td>\n",
              "      <td>9.942708</td>\n",
              "      <td>0</td>\n",
              "      <td>0</td>\n",
              "      <td>0</td>\n",
              "      <td>0</td>\n",
              "      <td>1</td>\n",
              "      <td>0</td>\n",
              "      <td>0</td>\n",
              "      <td>0.825</td>\n",
              "      <td>...</td>\n",
              "      <td>0</td>\n",
              "      <td>0</td>\n",
              "      <td>0</td>\n",
              "      <td>0</td>\n",
              "      <td>1</td>\n",
              "      <td>0</td>\n",
              "      <td>0</td>\n",
              "      <td>0</td>\n",
              "      <td>1</td>\n",
              "      <td>0</td>\n",
              "    </tr>\n",
              "    <tr>\n",
              "      <th>740</th>\n",
              "      <td>12</td>\n",
              "      <td>9.942708</td>\n",
              "      <td>1</td>\n",
              "      <td>0</td>\n",
              "      <td>0</td>\n",
              "      <td>0</td>\n",
              "      <td>0</td>\n",
              "      <td>0</td>\n",
              "      <td>0</td>\n",
              "      <td>0.875</td>\n",
              "      <td>...</td>\n",
              "      <td>0</td>\n",
              "      <td>0</td>\n",
              "      <td>0</td>\n",
              "      <td>0</td>\n",
              "      <td>1</td>\n",
              "      <td>0</td>\n",
              "      <td>0</td>\n",
              "      <td>0</td>\n",
              "      <td>1</td>\n",
              "      <td>0</td>\n",
              "    </tr>\n",
              "    <tr>\n",
              "      <th>852</th>\n",
              "      <td>12</td>\n",
              "      <td>10.203592</td>\n",
              "      <td>1</td>\n",
              "      <td>0</td>\n",
              "      <td>0</td>\n",
              "      <td>0</td>\n",
              "      <td>0</td>\n",
              "      <td>0</td>\n",
              "      <td>0</td>\n",
              "      <td>0.875</td>\n",
              "      <td>...</td>\n",
              "      <td>0</td>\n",
              "      <td>0</td>\n",
              "      <td>0</td>\n",
              "      <td>0</td>\n",
              "      <td>1</td>\n",
              "      <td>0</td>\n",
              "      <td>0</td>\n",
              "      <td>0</td>\n",
              "      <td>1</td>\n",
              "      <td>0</td>\n",
              "    </tr>\n",
              "    <tr>\n",
              "      <th>1036</th>\n",
              "      <td>13</td>\n",
              "      <td>10.373491</td>\n",
              "      <td>0</td>\n",
              "      <td>1</td>\n",
              "      <td>0</td>\n",
              "      <td>0</td>\n",
              "      <td>0</td>\n",
              "      <td>0</td>\n",
              "      <td>0</td>\n",
              "      <td>0.625</td>\n",
              "      <td>...</td>\n",
              "      <td>0</td>\n",
              "      <td>1</td>\n",
              "      <td>0</td>\n",
              "      <td>0</td>\n",
              "      <td>1</td>\n",
              "      <td>0</td>\n",
              "      <td>0</td>\n",
              "      <td>0</td>\n",
              "      <td>1</td>\n",
              "      <td>0</td>\n",
              "    </tr>\n",
              "  </tbody>\n",
              "</table>\n",
              "<p>5 rows × 29 columns</p>\n",
              "</div>\n",
              "    <div class=\"colab-df-buttons\">\n",
              "\n",
              "  <div class=\"colab-df-container\">\n",
              "    <button class=\"colab-df-convert\" onclick=\"convertToInteractive('df-9f3c1284-beef-448f-b3aa-8eb292f470d1')\"\n",
              "            title=\"Convert this dataframe to an interactive table.\"\n",
              "            style=\"display:none;\">\n",
              "\n",
              "  <svg xmlns=\"http://www.w3.org/2000/svg\" height=\"24px\" viewBox=\"0 -960 960 960\">\n",
              "    <path d=\"M120-120v-720h720v720H120Zm60-500h600v-160H180v160Zm220 220h160v-160H400v160Zm0 220h160v-160H400v160ZM180-400h160v-160H180v160Zm440 0h160v-160H620v160ZM180-180h160v-160H180v160Zm440 0h160v-160H620v160Z\"/>\n",
              "  </svg>\n",
              "    </button>\n",
              "\n",
              "  <style>\n",
              "    .colab-df-container {\n",
              "      display:flex;\n",
              "      gap: 12px;\n",
              "    }\n",
              "\n",
              "    .colab-df-convert {\n",
              "      background-color: #E8F0FE;\n",
              "      border: none;\n",
              "      border-radius: 50%;\n",
              "      cursor: pointer;\n",
              "      display: none;\n",
              "      fill: #1967D2;\n",
              "      height: 32px;\n",
              "      padding: 0 0 0 0;\n",
              "      width: 32px;\n",
              "    }\n",
              "\n",
              "    .colab-df-convert:hover {\n",
              "      background-color: #E2EBFA;\n",
              "      box-shadow: 0px 1px 2px rgba(60, 64, 67, 0.3), 0px 1px 3px 1px rgba(60, 64, 67, 0.15);\n",
              "      fill: #174EA6;\n",
              "    }\n",
              "\n",
              "    .colab-df-buttons div {\n",
              "      margin-bottom: 4px;\n",
              "    }\n",
              "\n",
              "    [theme=dark] .colab-df-convert {\n",
              "      background-color: #3B4455;\n",
              "      fill: #D2E3FC;\n",
              "    }\n",
              "\n",
              "    [theme=dark] .colab-df-convert:hover {\n",
              "      background-color: #434B5C;\n",
              "      box-shadow: 0px 1px 3px 1px rgba(0, 0, 0, 0.15);\n",
              "      filter: drop-shadow(0px 1px 2px rgba(0, 0, 0, 0.3));\n",
              "      fill: #FFFFFF;\n",
              "    }\n",
              "  </style>\n",
              "\n",
              "    <script>\n",
              "      const buttonEl =\n",
              "        document.querySelector('#df-9f3c1284-beef-448f-b3aa-8eb292f470d1 button.colab-df-convert');\n",
              "      buttonEl.style.display =\n",
              "        google.colab.kernel.accessAllowed ? 'block' : 'none';\n",
              "\n",
              "      async function convertToInteractive(key) {\n",
              "        const element = document.querySelector('#df-9f3c1284-beef-448f-b3aa-8eb292f470d1');\n",
              "        const dataTable =\n",
              "          await google.colab.kernel.invokeFunction('convertToInteractive',\n",
              "                                                    [key], {});\n",
              "        if (!dataTable) return;\n",
              "\n",
              "        const docLinkHtml = 'Like what you see? Visit the ' +\n",
              "          '<a target=\"_blank\" href=https://colab.research.google.com/notebooks/data_table.ipynb>data table notebook</a>'\n",
              "          + ' to learn more about interactive tables.';\n",
              "        element.innerHTML = '';\n",
              "        dataTable['output_type'] = 'display_data';\n",
              "        await google.colab.output.renderOutput(dataTable, element);\n",
              "        const docLink = document.createElement('div');\n",
              "        docLink.innerHTML = docLinkHtml;\n",
              "        element.appendChild(docLink);\n",
              "      }\n",
              "    </script>\n",
              "  </div>\n",
              "\n",
              "\n",
              "<div id=\"df-6189886f-59d1-4b11-b129-8887b74631a9\">\n",
              "  <button class=\"colab-df-quickchart\" onclick=\"quickchart('df-6189886f-59d1-4b11-b129-8887b74631a9')\"\n",
              "            title=\"Suggest charts\"\n",
              "            style=\"display:none;\">\n",
              "\n",
              "<svg xmlns=\"http://www.w3.org/2000/svg\" height=\"24px\"viewBox=\"0 0 24 24\"\n",
              "     width=\"24px\">\n",
              "    <g>\n",
              "        <path d=\"M19 3H5c-1.1 0-2 .9-2 2v14c0 1.1.9 2 2 2h14c1.1 0 2-.9 2-2V5c0-1.1-.9-2-2-2zM9 17H7v-7h2v7zm4 0h-2V7h2v10zm4 0h-2v-4h2v4z\"/>\n",
              "    </g>\n",
              "</svg>\n",
              "  </button>\n",
              "\n",
              "<style>\n",
              "  .colab-df-quickchart {\n",
              "      --bg-color: #E8F0FE;\n",
              "      --fill-color: #1967D2;\n",
              "      --hover-bg-color: #E2EBFA;\n",
              "      --hover-fill-color: #174EA6;\n",
              "      --disabled-fill-color: #AAA;\n",
              "      --disabled-bg-color: #DDD;\n",
              "  }\n",
              "\n",
              "  [theme=dark] .colab-df-quickchart {\n",
              "      --bg-color: #3B4455;\n",
              "      --fill-color: #D2E3FC;\n",
              "      --hover-bg-color: #434B5C;\n",
              "      --hover-fill-color: #FFFFFF;\n",
              "      --disabled-bg-color: #3B4455;\n",
              "      --disabled-fill-color: #666;\n",
              "  }\n",
              "\n",
              "  .colab-df-quickchart {\n",
              "    background-color: var(--bg-color);\n",
              "    border: none;\n",
              "    border-radius: 50%;\n",
              "    cursor: pointer;\n",
              "    display: none;\n",
              "    fill: var(--fill-color);\n",
              "    height: 32px;\n",
              "    padding: 0;\n",
              "    width: 32px;\n",
              "  }\n",
              "\n",
              "  .colab-df-quickchart:hover {\n",
              "    background-color: var(--hover-bg-color);\n",
              "    box-shadow: 0 1px 2px rgba(60, 64, 67, 0.3), 0 1px 3px 1px rgba(60, 64, 67, 0.15);\n",
              "    fill: var(--button-hover-fill-color);\n",
              "  }\n",
              "\n",
              "  .colab-df-quickchart-complete:disabled,\n",
              "  .colab-df-quickchart-complete:disabled:hover {\n",
              "    background-color: var(--disabled-bg-color);\n",
              "    fill: var(--disabled-fill-color);\n",
              "    box-shadow: none;\n",
              "  }\n",
              "\n",
              "  .colab-df-spinner {\n",
              "    border: 2px solid var(--fill-color);\n",
              "    border-color: transparent;\n",
              "    border-bottom-color: var(--fill-color);\n",
              "    animation:\n",
              "      spin 1s steps(1) infinite;\n",
              "  }\n",
              "\n",
              "  @keyframes spin {\n",
              "    0% {\n",
              "      border-color: transparent;\n",
              "      border-bottom-color: var(--fill-color);\n",
              "      border-left-color: var(--fill-color);\n",
              "    }\n",
              "    20% {\n",
              "      border-color: transparent;\n",
              "      border-left-color: var(--fill-color);\n",
              "      border-top-color: var(--fill-color);\n",
              "    }\n",
              "    30% {\n",
              "      border-color: transparent;\n",
              "      border-left-color: var(--fill-color);\n",
              "      border-top-color: var(--fill-color);\n",
              "      border-right-color: var(--fill-color);\n",
              "    }\n",
              "    40% {\n",
              "      border-color: transparent;\n",
              "      border-right-color: var(--fill-color);\n",
              "      border-top-color: var(--fill-color);\n",
              "    }\n",
              "    60% {\n",
              "      border-color: transparent;\n",
              "      border-right-color: var(--fill-color);\n",
              "    }\n",
              "    80% {\n",
              "      border-color: transparent;\n",
              "      border-right-color: var(--fill-color);\n",
              "      border-bottom-color: var(--fill-color);\n",
              "    }\n",
              "    90% {\n",
              "      border-color: transparent;\n",
              "      border-bottom-color: var(--fill-color);\n",
              "    }\n",
              "  }\n",
              "</style>\n",
              "\n",
              "  <script>\n",
              "    async function quickchart(key) {\n",
              "      const quickchartButtonEl =\n",
              "        document.querySelector('#' + key + ' button');\n",
              "      quickchartButtonEl.disabled = true;  // To prevent multiple clicks.\n",
              "      quickchartButtonEl.classList.add('colab-df-spinner');\n",
              "      try {\n",
              "        const charts = await google.colab.kernel.invokeFunction(\n",
              "            'suggestCharts', [key], {});\n",
              "      } catch (error) {\n",
              "        console.error('Error during call to suggestCharts:', error);\n",
              "      }\n",
              "      quickchartButtonEl.classList.remove('colab-df-spinner');\n",
              "      quickchartButtonEl.classList.add('colab-df-quickchart-complete');\n",
              "    }\n",
              "    (() => {\n",
              "      let quickchartButtonEl =\n",
              "        document.querySelector('#df-6189886f-59d1-4b11-b129-8887b74631a9 button');\n",
              "      quickchartButtonEl.style.display =\n",
              "        google.colab.kernel.accessAllowed ? 'block' : 'none';\n",
              "    })();\n",
              "  </script>\n",
              "</div>\n",
              "    </div>\n",
              "  </div>\n"
            ]
          },
          "metadata": {},
          "execution_count": 5
        }
      ]
    },
    {
      "cell_type": "code",
      "source": [
        "y = df['logwage'].to_numpy().flatten()\n",
        "X = df.drop(columns=['logwage']).to_numpy()\n",
        "X_train, X_test, y_train, y_test = train_test_split(X, y, test_size=0.3, random_state=42)\n",
        "\n",
        "reg_results = np.empty((4, len(df.columns)))"
      ],
      "metadata": {
        "id": "Dr9Whr_i-w1E"
      },
      "execution_count": 6,
      "outputs": []
    },
    {
      "cell_type": "code",
      "source": [
        "#OLS\n",
        "ols_reg = LinearRegression().fit(X_train, y_train)\n",
        "y_pred_ols = ols_reg.predict(X_test)\n",
        "r2_ols = r2_score(y_test, y_pred_ols)\n",
        "print(f\"R2: {r2_ols}\")\n",
        "print(ols_reg.coef_)\n",
        "\n",
        "reg_results[0, :-1] = np.array(ols_reg.coef_)\n",
        "reg_results[0, -1] = r2_ols"
      ],
      "metadata": {
        "colab": {
          "base_uri": "https://localhost:8080/"
        },
        "id": "IbX-0gNrWcGa",
        "outputId": "d1444eb0-4e04-4e27-b210-b2aed9fdbe04"
      },
      "execution_count": 7,
      "outputs": [
        {
          "output_type": "stream",
          "name": "stdout",
          "text": [
            "R2: 0.28514228291124444\n",
            "[ 1.21727050e-02  5.66685434e-02  2.49983196e-01  4.55529099e-01\n",
            "  1.04132780e-09  7.02523706e-01  8.35912753e-01  1.10708543e+00\n",
            " -1.17783539e+01  1.08688833e+02 -4.03644252e+02  8.17520330e+02\n",
            " -1.01493239e+03  8.10763291e+02 -4.13094721e+02  1.22758191e+02\n",
            " -1.61126217e+01  1.77082785e-03  6.74985013e-02  9.04560853e-02\n",
            " -1.30296434e-01 -2.94289447e-02  1.20421438e-01 -1.45563781e-01\n",
            " -2.67471797e-02  5.18894840e-02  5.76187236e-02 -5.76187180e-02]\n"
          ]
        }
      ]
    },
    {
      "cell_type": "code",
      "source": [
        "#Ridge: hyperparameter tuning\n",
        "parameters = {'alpha': np.logspace(0, 3, 30, base=10)/(10**5)}\n",
        "ridge_reg = GridSearchCV(Ridge(), parameters, cv=5)\n",
        "ridge_reg.fit(X_train, y_train)\n",
        "print(ridge_reg.best_params_)"
      ],
      "metadata": {
        "id": "e2LtXVrv_RG4",
        "colab": {
          "base_uri": "https://localhost:8080/"
        },
        "outputId": "8e7d0954-2cf0-4e0b-84ab-e4ef22b90d3d"
      },
      "execution_count": 8,
      "outputs": [
        {
          "output_type": "stream",
          "name": "stdout",
          "text": [
            "{'alpha': 0.0002807216203941177}\n"
          ]
        }
      ]
    },
    {
      "cell_type": "code",
      "source": [
        "#Ridge model\n",
        "final_ridge = Ridge(alpha=ridge_reg.best_params_['alpha']).fit(X_train, y_train)\n",
        "r2_ridge = r2_score(y_test, final_ridge.predict(X_test))\n",
        "print(final_ridge.coef_)\n",
        "print(f\"R2: {r2_ridge}\")\n",
        "\n",
        "\n",
        "reg_results[1, :-1] = np.array(final_ridge.coef_)\n",
        "reg_results[1, -1] = r2_ridge"
      ],
      "metadata": {
        "colab": {
          "base_uri": "https://localhost:8080/"
        },
        "id": "sA_nRwO3ZZH5",
        "outputId": "f6fa0aae-48f4-4d7e-f216-3a3a8ee464a5"
      },
      "execution_count": 9,
      "outputs": [
        {
          "output_type": "stream",
          "name": "stdout",
          "text": [
            "[ 1.23516669e-02  5.67158487e-02  2.48949106e-01  4.54584409e-01\n",
            "  0.00000000e+00  7.00465157e-01  8.33602290e-01  1.10611972e+00\n",
            "  7.32161492e+00 -1.13018515e+01 -1.09145204e+00  9.60049915e+00\n",
            "  4.83997093e+00 -7.26425400e+00 -7.90651183e+00  9.71118847e+00\n",
            " -2.52833396e+00  1.47865144e-03  6.68156098e-02  9.18074177e-02\n",
            " -1.30709959e-01 -2.93917144e-02  1.21124143e-01 -1.46722774e-01\n",
            " -2.67906764e-02  5.23893040e-02  5.77050377e-02 -5.77050373e-02]\n",
            "R2: 0.28509765503997053\n"
          ]
        }
      ]
    },
    {
      "cell_type": "code",
      "source": [
        "#Lasso hyperparameter tuning:\n",
        "parameters = {'alpha': np.logspace(0, 3, 30, base=10)/(10**5)}\n",
        "lasso_reg = GridSearchCV(Lasso(tol=1e-2, max_iter=2000), parameters, cv=5)\n",
        "lasso_reg.fit(X_train, y_train)\n",
        "print(lasso_reg.best_params_)\n"
      ],
      "metadata": {
        "colab": {
          "base_uri": "https://localhost:8080/"
        },
        "id": "0UAbxChYfUoW",
        "outputId": "f73206f0-fcf9-4c12-8554-1db8309815d0"
      },
      "execution_count": 10,
      "outputs": [
        {
          "output_type": "stream",
          "name": "stdout",
          "text": [
            "{'alpha': 0.0003562247890262442}\n"
          ]
        }
      ]
    },
    {
      "cell_type": "code",
      "source": [
        "#Lasso model\n",
        "final_lasso = Lasso(alpha=0.1).fit(X_train, y_train)\n",
        "r2_lasso = r2_score(y_test, final_lasso.predict(X_test))\n",
        "print(final_lasso.coef_)\n",
        "print(f\"R2: {r2_lasso}\")\n",
        "print(np.sum(np.array(final_lasso.coef_) != 0))\n",
        "\n",
        "reg_results[2, :-1] = np.array(final_lasso.coef_)\n",
        "reg_results[2, -1] = r2_lasso"
      ],
      "metadata": {
        "colab": {
          "base_uri": "https://localhost:8080/"
        },
        "id": "B168xCW-ZZNj",
        "outputId": "a5cf7fb1-aa72-4db9-b5d6-4747ad50c456"
      },
      "execution_count": 11,
      "outputs": [
        {
          "output_type": "stream",
          "name": "stdout",
          "text": [
            "[ 0.09756184 -0.         -0.          0.          0.          0.\n",
            "  0.          0.          0.          0.          0.          0.\n",
            "  0.          0.          0.          0.          0.00088011  0.\n",
            "  0.          0.         -0.         -0.          0.         -0.\n",
            " -0.          0.          0.         -0.        ]\n",
            "R2: 0.2558707356993879\n",
            "2\n"
          ]
        }
      ]
    },
    {
      "cell_type": "code",
      "source": [
        "#Elasticreg hyperparameter tuning\n",
        "parameters = {'alpha': np.logspace(0, 3, 100, base=10)/(10**5),\n",
        "              'l1_ratio': np.linspace(0.01, 0.99, 100)}\n",
        "\n",
        "elastic_reg = RandomizedSearchCV(ElasticNet(), parameters, cv=5)\n",
        "elastic_reg.fit(X_train, y_train)\n",
        "print(elastic_reg.best_params_)"
      ],
      "metadata": {
        "colab": {
          "base_uri": "https://localhost:8080/"
        },
        "id": "C9FqgBHXeE9g",
        "outputId": "fb26051a-d533-4921-dd44-40675b80d12a"
      },
      "execution_count": 12,
      "outputs": [
        {
          "output_type": "stream",
          "name": "stdout",
          "text": [
            "{'l1_ratio': 0.059494949494949496, 'alpha': 0.0008697490026177834}\n"
          ]
        }
      ]
    },
    {
      "cell_type": "code",
      "source": [
        "final_elastic = ElasticNet(l1_ratio = elastic_reg.best_params_['l1_ratio'],\n",
        "                           alpha = elastic_reg.best_params_['alpha']).fit(X_train, y_train)\n",
        "r2_elastic = r2_score(y_test, final_elastic.predict(X_test))\n",
        "\n",
        "print(final_elastic.coef_)\n",
        "print(f\"R2: {r2_elastic}\")\n",
        "print(np.sum(np.array(final_elastic.coef_) != 0))\n",
        "\n",
        "reg_results[3, :-1] = np.array(final_elastic.coef_)\n",
        "reg_results[3, -1] = r2_elastic"
      ],
      "metadata": {
        "colab": {
          "base_uri": "https://localhost:8080/"
        },
        "id": "4DCTQHmde-7m",
        "outputId": "60985ed8-7f57-4eff-a54c-dda87768e91a"
      },
      "execution_count": 13,
      "outputs": [
        {
          "output_type": "stream",
          "name": "stdout",
          "text": [
            "[ 0.03959471 -0.06787966  0.08747788  0.2581133   0.          0.4565332\n",
            "  0.52262084  0.73376201  0.35461208 -0.0192919  -0.02413888  0.\n",
            " -0.03106565 -0.05601302 -0.01502453  0.00642186  0.01449364  0.\n",
            "  0.06210243  0.09649829 -0.14238757 -0.05054639  0.12155413 -0.14659472\n",
            " -0.02607408  0.05109339  0.04945887 -0.0494558 ]\n",
            "R2: 0.27541585618348197\n",
            "25\n"
          ]
        }
      ]
    },
    {
      "cell_type": "code",
      "source": [
        "reg_results2 = np.hstack((reg_results, (np.sum(reg_results != 0, axis=1).reshape(-1, 1) - 1)))\n",
        "\n",
        "reg_results_df = pd.DataFrame(np.round(reg_results2.T, 3))\n",
        "\n",
        "indexes = df.drop(columns=['logwage']).columns.tolist()\n",
        "indexes.append(\"R2\")\n",
        "indexes.append(\"n_nonzero_coef\")\n",
        "reg_results_df.index = indexes\n",
        "reg_results_df.columns = [\"OLS\", \"Ridge\", \"Lasso\", \"Elasticnet\"]\n",
        "\n",
        "\n",
        "print(reg_results_df)"
      ],
      "metadata": {
        "colab": {
          "base_uri": "https://localhost:8080/"
        },
        "id": "8nE3-TBnhQ9A",
        "outputId": "616a0b5e-a8b9-488d-a7e1-8aa745e1929d"
      },
      "execution_count": 14,
      "outputs": [
        {
          "output_type": "stream",
          "name": "stdout",
          "text": [
            "                          OLS   Ridge  Lasso  Elasticnet\n",
            "education               0.012   0.012  0.098       0.040\n",
            "educ_dum_12             0.057   0.057 -0.000      -0.068\n",
            "educ_dum_13             0.250   0.249 -0.000       0.087\n",
            "educ_dum_14             0.456   0.455  0.000       0.258\n",
            "educ_dum_15             0.000   0.000  0.000       0.000\n",
            "educ_dum_16             0.703   0.700  0.000       0.457\n",
            "educ_dum_18             0.836   0.834  0.000       0.523\n",
            "educ_dum_20             1.107   1.106  0.000       0.734\n",
            "experience/40         -11.778   7.322  0.000       0.355\n",
            "experience/40_pow_2   108.689 -11.302  0.000      -0.019\n",
            "experience/40_pow_3  -403.644  -1.091  0.000      -0.024\n",
            "experience/40_pow_4   817.520   9.600  0.000       0.000\n",
            "experience/40_pow_5 -1014.932   4.840  0.000      -0.031\n",
            "experience/40_pow_6   810.763  -7.264  0.000      -0.056\n",
            "experience/40_pow_7  -413.095  -7.907  0.000      -0.015\n",
            "experience/40_pow_8   122.758   9.711  0.000       0.006\n",
            "experience/40_pow_9   -16.113  -2.528  0.001       0.014\n",
            "married                 0.002   0.001  0.000       0.000\n",
            "widowed                 0.067   0.067  0.000       0.062\n",
            "divorced                0.090   0.092  0.000       0.096\n",
            "separated              -0.130  -0.131 -0.000      -0.142\n",
            "never_married          -0.029  -0.029 -0.000      -0.051\n",
            "region_1                0.120   0.121  0.000       0.122\n",
            "region_2               -0.146  -0.147 -0.000      -0.147\n",
            "region_3               -0.027  -0.027 -0.000      -0.026\n",
            "region_4                0.052   0.052  0.000       0.051\n",
            "union_0                 0.058   0.058  0.000       0.049\n",
            "union_1                -0.058  -0.058 -0.000      -0.049\n",
            "R2                      0.285   0.285  0.256       0.275\n",
            "n_nonzero_coef         28.000  27.000  2.000      25.000\n"
          ]
        }
      ]
    },
    {
      "cell_type": "code",
      "source": [],
      "metadata": {
        "id": "7NDwBR_mQkcS"
      },
      "execution_count": null,
      "outputs": []
    }
  ]
}